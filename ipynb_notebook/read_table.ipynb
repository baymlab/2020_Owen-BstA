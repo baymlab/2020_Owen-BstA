{
 "cells": [
  {
   "cell_type": "code",
   "execution_count": 10,
   "metadata": {},
   "outputs": [],
   "source": [
    "import pandas as pd"
   ]
  },
  {
   "cell_type": "code",
   "execution_count": 11,
   "metadata": {},
   "outputs": [],
   "source": [
    "# read excel\n",
    "df = pd.read_excel('../data/Curated homolog list.xlsx')\n",
    "\n",
    "# clean df\n",
    "df = df[~df['Accession'].isnull()]\n",
    "df['Hit start'] = df['Hit start'].astype('int')\n",
    "df['Hit end'] = df['Hit end'].astype('int')"
   ]
  },
  {
   "cell_type": "code",
   "execution_count": 12,
   "metadata": {},
   "outputs": [
    {
     "data": {
      "text/html": [
       "<div>\n",
       "<style scoped>\n",
       "    .dataframe tbody tr th:only-of-type {\n",
       "        vertical-align: middle;\n",
       "    }\n",
       "\n",
       "    .dataframe tbody tr th {\n",
       "        vertical-align: top;\n",
       "    }\n",
       "\n",
       "    .dataframe thead th {\n",
       "        text-align: right;\n",
       "    }\n",
       "</style>\n",
       "<table border=\"1\" class=\"dataframe\">\n",
       "  <thead>\n",
       "    <tr style=\"text-align: right;\">\n",
       "      <th></th>\n",
       "      <th>Strain</th>\n",
       "      <th>Accession</th>\n",
       "      <th>Hit start</th>\n",
       "      <th>Hit end</th>\n",
       "      <th>Strand</th>\n",
       "      <th>Hit gene ID</th>\n",
       "      <th>Hit gene protein id</th>\n",
       "      <th>Taxonoomy</th>\n",
       "      <th>Phage?</th>\n",
       "      <th>Annotation of hit gene</th>\n",
       "      <th>Group</th>\n",
       "      <th>Unnamed: 11</th>\n",
       "    </tr>\n",
       "  </thead>\n",
       "  <tbody>\n",
       "    <tr>\n",
       "      <th>0</th>\n",
       "      <td>Flavobacterium crassostreae LPB0076</td>\n",
       "      <td>CP017688.1</td>\n",
       "      <td>2969121</td>\n",
       "      <td>2969912</td>\n",
       "      <td>+</td>\n",
       "      <td>LB076_RS13210</td>\n",
       "      <td>WP_066332363.1</td>\n",
       "      <td>Bacteria; Bacteroidetes; Flavobacteriia; Flavo...</td>\n",
       "      <td>PHASTER</td>\n",
       "      <td>KilA-N</td>\n",
       "      <td>Bacteroidetes</td>\n",
       "      <td>NaN</td>\n",
       "    </tr>\n",
       "    <tr>\n",
       "      <th>2</th>\n",
       "      <td>Geminocystis sp. NIES-3708</td>\n",
       "      <td>AP014815</td>\n",
       "      <td>526244</td>\n",
       "      <td>526645</td>\n",
       "      <td>-</td>\n",
       "      <td>GM3708_465</td>\n",
       "      <td>BAQ60059</td>\n",
       "      <td>Bacteria; Cyanobacteria; Oscillatoriophycideae...</td>\n",
       "      <td>-</td>\n",
       "      <td>KilA N-terminal domain</td>\n",
       "      <td>Cyanobacteria</td>\n",
       "      <td>NaN</td>\n",
       "    </tr>\n",
       "    <tr>\n",
       "      <th>3</th>\n",
       "      <td>Aulosira laxa NIES-50 plasmid 2</td>\n",
       "      <td>AP018309</td>\n",
       "      <td>126252</td>\n",
       "      <td>126650</td>\n",
       "      <td>+</td>\n",
       "      <td>NIES50_69810</td>\n",
       "      <td>BAZ78348</td>\n",
       "      <td>Bacteria; Cyanobacteria; Nostocales; Fortieace...</td>\n",
       "      <td>NaN</td>\n",
       "      <td>KilA-like protein</td>\n",
       "      <td>Cyanobacteria</td>\n",
       "      <td>NaN</td>\n",
       "    </tr>\n",
       "    <tr>\n",
       "      <th>4</th>\n",
       "      <td>Anabaena sp. 90 plasmid pANA01</td>\n",
       "      <td>CP003286</td>\n",
       "      <td>56673</td>\n",
       "      <td>57032</td>\n",
       "      <td>-</td>\n",
       "      <td>ANA_P10070</td>\n",
       "      <td>AFW97237</td>\n",
       "      <td>Bacteria; Cyanobacteria; Nostocales; Nostocace...</td>\n",
       "      <td>NaN</td>\n",
       "      <td>Hypothetical protein</td>\n",
       "      <td>Cyanobacteria</td>\n",
       "      <td>NaN</td>\n",
       "    </tr>\n",
       "    <tr>\n",
       "      <th>5</th>\n",
       "      <td>Calothrix sp. NIES-4105 plasmid 2</td>\n",
       "      <td>AP018292</td>\n",
       "      <td>296431</td>\n",
       "      <td>296823</td>\n",
       "      <td>+</td>\n",
       "      <td>NIES4105_107650</td>\n",
       "      <td>BAZ65032</td>\n",
       "      <td>Bacteria; Cyanobacteria; Nostocales; Rivularia...</td>\n",
       "      <td>NaN</td>\n",
       "      <td>DNA-damage-inducible protein</td>\n",
       "      <td>Cyanobacteria</td>\n",
       "      <td>NaN</td>\n",
       "    </tr>\n",
       "  </tbody>\n",
       "</table>\n",
       "</div>"
      ],
      "text/plain": [
       "                                Strain   Accession  Hit start  Hit end Strand  \\\n",
       "0  Flavobacterium crassostreae LPB0076  CP017688.1    2969121  2969912      +   \n",
       "2           Geminocystis sp. NIES-3708    AP014815     526244   526645      -   \n",
       "3      Aulosira laxa NIES-50 plasmid 2    AP018309     126252   126650      +   \n",
       "4       Anabaena sp. 90 plasmid pANA01    CP003286      56673    57032      -   \n",
       "5    Calothrix sp. NIES-4105 plasmid 2    AP018292     296431   296823      +   \n",
       "\n",
       "       Hit gene ID Hit gene protein id  \\\n",
       "0    LB076_RS13210      WP_066332363.1   \n",
       "2       GM3708_465            BAQ60059   \n",
       "3     NIES50_69810            BAZ78348   \n",
       "4       ANA_P10070            AFW97237   \n",
       "5  NIES4105_107650            BAZ65032   \n",
       "\n",
       "                                           Taxonoomy   Phage?  \\\n",
       "0  Bacteria; Bacteroidetes; Flavobacteriia; Flavo...  PHASTER   \n",
       "2  Bacteria; Cyanobacteria; Oscillatoriophycideae...        -   \n",
       "3  Bacteria; Cyanobacteria; Nostocales; Fortieace...      NaN   \n",
       "4  Bacteria; Cyanobacteria; Nostocales; Nostocace...      NaN   \n",
       "5  Bacteria; Cyanobacteria; Nostocales; Rivularia...      NaN   \n",
       "\n",
       "         Annotation of hit gene          Group Unnamed: 11  \n",
       "0                        KilA-N  Bacteroidetes         NaN  \n",
       "2        KilA N-terminal domain  Cyanobacteria         NaN  \n",
       "3             KilA-like protein  Cyanobacteria         NaN  \n",
       "4          Hypothetical protein  Cyanobacteria         NaN  \n",
       "5  DNA-damage-inducible protein  Cyanobacteria         NaN  "
      ]
     },
     "execution_count": 12,
     "metadata": {},
     "output_type": "execute_result"
    }
   ],
   "source": [
    "df.head()"
   ]
  },
  {
   "cell_type": "code",
   "execution_count": 13,
   "metadata": {},
   "outputs": [],
   "source": [
    "df_reduced = df[['Accession', 'Hit start', 'Hit end', 'Strand']].copy()\n",
    "df_reduced.columns = ['acc', 'start', 'end', 'strand']\n",
    "df_reduced['acc'] = df_reduced['acc'].str.strip()"
   ]
  },
  {
   "cell_type": "code",
   "execution_count": 14,
   "metadata": {},
   "outputs": [],
   "source": [
    "df_reduced['original_orient'] = (df_reduced['end'] - df_reduced['start']) < 0"
   ]
  },
  {
   "cell_type": "code",
   "execution_count": 15,
   "metadata": {},
   "outputs": [],
   "source": [
    "new_starts = []\n",
    "new_ends = []\n",
    "\n",
    "for row, column in df_reduced.iterrows():\n",
    "    if column['start'] > column['end']:\n",
    "        start = column['end']\n",
    "        end = column['start']\n",
    "    else:\n",
    "        start = column['start']\n",
    "        end = column['end']\n",
    "    \n",
    "    new_starts.append(start)\n",
    "    new_ends.append(end)"
   ]
  },
  {
   "cell_type": "code",
   "execution_count": 16,
   "metadata": {},
   "outputs": [],
   "source": [
    "df_reduced['start'] = new_starts\n",
    "df_reduced['end'] = new_ends"
   ]
  },
  {
   "cell_type": "code",
   "execution_count": 17,
   "metadata": {},
   "outputs": [],
   "source": [
    "df_reduced[['acc', 'start', 'end']].to_csv('../data/bsta_homologs/bsta_homologs.tsv', sep='\\t', index=False)"
   ]
  },
  {
   "cell_type": "code",
   "execution_count": null,
   "metadata": {},
   "outputs": [],
   "source": []
  }
 ],
 "metadata": {
  "kernelspec": {
   "display_name": "Python 3",
   "language": "python",
   "name": "python3"
  },
  "language_info": {
   "codemirror_mode": {
    "name": "ipython",
    "version": 3
   },
   "file_extension": ".py",
   "mimetype": "text/x-python",
   "name": "python",
   "nbconvert_exporter": "python",
   "pygments_lexer": "ipython3",
   "version": "3.6.10"
  }
 },
 "nbformat": 4,
 "nbformat_minor": 4
}
