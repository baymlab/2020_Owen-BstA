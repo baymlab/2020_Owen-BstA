{
 "cells": [
  {
   "cell_type": "code",
   "execution_count": 21,
   "metadata": {},
   "outputs": [
    {
     "name": "stdout",
     "output_type": "stream",
     "text": [
      "\u001b[33mBuilding DAG of jobs...\u001b[0m\n"
     ]
    }
   ],
   "source": [
    "!cd .. ; snakemake --dag | dot -Tpng > dag.png"
   ]
  },
  {
   "cell_type": "code",
   "execution_count": 1,
   "metadata": {},
   "outputs": [
    {
     "name": "stdout",
     "output_type": "stream",
     "text": [
      "\u001b[33mBuilding DAG of jobs...\u001b[0m\n",
      "\u001b[33mUsing shell: /bin/bash\u001b[0m\n",
      "\u001b[33mProvided cores: 1 (use --cores to define parallelism)\u001b[0m\n",
      "\u001b[33mRules claiming more threads will be scaled down.\u001b[0m\n",
      "\u001b[33mJob counts:\n",
      "\tcount\tjobs\n",
      "\t1\tall\n",
      "\t1\tdownload\n",
      "\t1\thmmer\n",
      "\t1\tprokka\n",
      "\t1\treplace_annotations\n",
      "\t5\u001b[0m\n",
      "\u001b[32m\u001b[0m\n",
      "\u001b[32m[Tue Apr 21 09:45:09 2020]\u001b[0m\n",
      "\u001b[32mrule download:\n",
      "    output: data/bsta_homologs/fasta/CP000076_4381392-4382312.fasta\n",
      "    jobid: 268\n",
      "    wildcards: direc=data/bsta_homologs, acc=CP000076, start=4381392, end=4382312\u001b[0m\n",
      "\u001b[32m\u001b[0m\n",
      "\u001b[33mJob counts:\n",
      "\tcount\tjobs\n",
      "\t1\tdownload\n",
      "\t1\u001b[0m\n",
      "\u001b[32m[Tue Apr 21 09:45:10 2020]\u001b[0m\n",
      "\u001b[32mFinished job 268.\u001b[0m\n",
      "\u001b[32m1 of 5 steps (20%) done\u001b[0m\n",
      "\u001b[32m\u001b[0m\n",
      "\u001b[32m[Tue Apr 21 09:45:10 2020]\u001b[0m\n",
      "\u001b[32mrule prokka:\n",
      "    input: data/bsta_homologs/fasta/CP000076_4381392-4382312.fasta\n",
      "    output: data/bsta_homologs/prokka/CP000076_4381392-4382312/CP000076_4381392-4382312.gbk, data/bsta_homologs/prokka/CP000076_4381392-4382312/CP000076_4381392-4382312.faa\n",
      "    jobid: 155\n",
      "    wildcards: direc=data/bsta_homologs, acc=CP000076, start=4381392, end=4382312\u001b[0m\n",
      "\u001b[32m\u001b[0m\n",
      "\u001b[32m[Tue Apr 21 09:45:25 2020]\u001b[0m\n",
      "\u001b[32mFinished job 155.\u001b[0m\n",
      "\u001b[32m2 of 5 steps (40%) done\u001b[0m\n",
      "\u001b[32m\u001b[0m\n",
      "\u001b[32m[Tue Apr 21 09:45:25 2020]\u001b[0m\n",
      "\u001b[32mrule hmmer:\n",
      "    input: data/bsta_homologs/prokka/CP000076_4381392-4382312/CP000076_4381392-4382312.faa\n",
      "    output: data/bsta_homologs/hmmscan/CP000076_4381392-4382312/CP000076_4381392-4382312.out, data/bsta_homologs/hmmscan/CP000076_4381392-4382312/CP000076_4381392-4382312.tbl\n",
      "    jobid: 156\n",
      "    wildcards: direc=data/bsta_homologs, acc=CP000076, start=4381392, end=4382312\u001b[0m\n",
      "\u001b[32m\u001b[0m\n",
      "\u001b[32m[Tue Apr 21 09:45:54 2020]\u001b[0m\n",
      "\u001b[32mFinished job 156.\u001b[0m\n",
      "\u001b[32m3 of 5 steps (60%) done\u001b[0m\n",
      "\u001b[32m\u001b[0m\n",
      "\u001b[32m[Tue Apr 21 09:45:54 2020]\u001b[0m\n",
      "\u001b[32mrule replace_annotations:\n",
      "    input: data/bsta_homologs/prokka/CP000076_4381392-4382312/CP000076_4381392-4382312.gbk, data/bsta_homologs/hmmscan/CP000076_4381392-4382312/CP000076_4381392-4382312.tbl\n",
      "    output: data/bsta_homologs/viking/gb/CP000076_4381392-4382312.gbk, data/bsta_homologs/viking/tables/CP000076_4381392-4382312.tsv\n",
      "    jobid: 40\n",
      "    wildcards: direc=data/bsta_homologs, acc=CP000076, start=4381392, end=4382312\u001b[0m\n",
      "\u001b[32m\u001b[0m\n",
      "\u001b[33mJob counts:\n",
      "\tcount\tjobs\n",
      "\t1\treplace_annotations\n",
      "\t1\u001b[0m\n",
      "\u001b[32m[Tue Apr 21 09:45:54 2020]\u001b[0m\n",
      "\u001b[32mFinished job 40.\u001b[0m\n",
      "\u001b[32m4 of 5 steps (80%) done\u001b[0m\n",
      "\u001b[32m\u001b[0m\n",
      "\u001b[32m[Tue Apr 21 09:45:54 2020]\u001b[0m\n",
      "\u001b[32mlocalrule all:\n",
      "    input: data/bsta_homologs/viking/gb/CP017688.1_2969121-2969912.gbk, data/bsta_homologs/viking/gb/AP014815_526244-526645.gbk, data/bsta_homologs/viking/gb/AP018309_126252-126650.gbk, data/bsta_homologs/viking/gb/CP003286_56673-57032.gbk, data/bsta_homologs/viking/gb/AP018292_296431-296823.gbk, data/bsta_homologs/viking/gb/AP018292_157817-158158.gbk, data/bsta_homologs/viking/gb/AP018319_431160-431516.gbk, data/bsta_homologs/viking/gb/CP016484_1418-2182.gbk, data/bsta_homologs/viking/gb/AP018315_504-860.gbk, data/bsta_homologs/viking/gb/CP021109_2323336-2342470.gbk, data/bsta_homologs/viking/gb/CP021250_3786507-3787403.gbk, data/bsta_homologs/viking/gb/CP022390_448758-449693.gbk, data/bsta_homologs/viking/gb/LR134516_1625031-1625849.gbk, data/bsta_homologs/viking/gb/AP018786_988832-989662.gbk, data/bsta_homologs/viking/gb/CP026265_1299242-1300084.gbk, data/bsta_homologs/viking/gb/CP000319_2626194-2627024.gbk, data/bsta_homologs/viking/gb/CP035090_802716-803615.gbk, data/bsta_homologs/viking/gb/LO017727_4464629-4465522.gbk, data/bsta_homologs/viking/gb/CP034909_3159330-3160211.gbk, data/bsta_homologs/viking/gb/CP001096_4396643-4397494.gbk, data/bsta_homologs/viking/gb/CP020896_4050919-4051779.gbk, data/bsta_homologs/viking/gb/CP009571_2680366-2681274.gbk, data/bsta_homologs/viking/gb/FQ859181_1909769-1910659.gbk, data/bsta_homologs/viking/gb/CP013527_2067658-2068497.gbk, data/bsta_homologs/viking/gb/AP018827_1941460-1941768.gbk, data/bsta_homologs/viking/gb/CP049956_2360152-2361054.gbk, data/bsta_homologs/viking/gb/CP027562_1692877-1693764.gbk, data/bsta_homologs/viking/gb/LT707061_2457781-2458623.gbk, data/bsta_homologs/viking/gb/CP021342_30240-31106.gbk, data/bsta_homologs/viking/gb/CP035109_2308695-2309582.gbk, data/bsta_homologs/viking/gb/CP019320_2146872-2147732.gbk, data/bsta_homologs/viking/gb/CP035694_1489338-1490186.gbk, data/bsta_homologs/viking/gb/LS483392_1329713-1330618.gbk, data/bsta_homologs/viking/gb/CP007502_1285446-1286351.gbk, data/bsta_homologs/viking/gb/LR134298_1613267-1614148.gbk, data/bsta_homologs/viking/gb/CP013141_1712270-1712270.gbk, data/bsta_homologs/viking/gb/CP017306_1204963-1205775.gbk, data/bsta_homologs/viking/gb/LT629747_3041438-3042295.gbk, data/bsta_homologs/viking/gb/CP015876_3673556-3674386.gbk, data/bsta_homologs/viking/gb/CP000076_4381392-4382312.gbk, data/bsta_homologs/viking/gb/CP035731_356040-356873.gbk, data/bsta_homologs/viking/gb/CP019628_3690609-3691427.gbk, data/bsta_homologs/viking/gb/AP019798_987339-988163.gbk, data/bsta_homologs/viking/gb/CP006267_916-1353.gbk, data/bsta_homologs/viking/gb/AP012273_1038779-1039207.gbk, data/bsta_homologs/viking/gb/CP028994_4443838-4444761.gbk, data/bsta_homologs/viking/gb/CP028994_4401005-4401926.gbk, data/bsta_homologs/viking/gb/CP026235_2832900-2833823.gbk, data/bsta_homologs/viking/gb/CP017581_2423168-2424082.gbk, data/bsta_homologs/viking/gb/CP020817_1993312-1994217.gbk, data/bsta_homologs/viking/gb/CP034944_1493720-1494622.gbk, data/bsta_homologs/viking/gb/CP034668_3062971-3063882.gbk, data/bsta_homologs/viking/gb/FO834906_1513232-1514125.gbk, data/bsta_homologs/viking/gb/LR134189_2619115-2620005.gbk, data/bsta_homologs/viking/gb/CP022725_555491-556390.gbk, data/bsta_homologs/viking/gb/CP009787_4143769-4144515.gbk, data/bsta_homologs/viking/gb/CP040677_3689184-3690047.gbk, data/bsta_homologs/viking/gb/CP016044_2978982-2979875.gbk, data/bsta_homologs/viking/gb/CP013046_3012890-3013726.gbk, data/bsta_homologs/viking/gb/CP021894_1977122-1977979.gbk, data/bsta_homologs/viking/gb/CP036514_440041-440391.gbk, data/bsta_homologs/viking/gb/NZ_CAADJH010000002.1_1520985-1521881.gbk, data/bsta_homologs/viking/gb/CP042945_3918441-3919337.gbk, data/bsta_homologs/viking/gb/AP014856_2615578-2616414.gbk, data/bsta_homologs/viking/gb/AP010958_3182178-3183047.gbk, data/bsta_homologs/viking/gb/LR134237_1366652-1367500.gbk, data/bsta_homologs/viking/gb/LR134234_4557005-4557922.gbk, data/bsta_homologs/viking/gb/CP024289_382841-383737.gbk, data/bsta_homologs/viking/gb/LR134156_1473092-1474012.gbk, data/bsta_homologs/viking/gb/LS483474_2960975-2961898.gbk, data/bsta_homologs/viking/gb/CP019179_3449220-3450143.gbk, data/bsta_homologs/viking/gb/CP043664_1528793-1528793.gbk, data/bsta_homologs/viking/gb/CP025246_3435235-3436158.gbk, data/bsta_homologs/viking/gb/CP019404_1292282-1293205.gbk, data/bsta_homologs/viking/gb/CP043509_1557428-1558351.gbk, data/bsta_homologs/viking/gb/FN424405_377825-378748.gbk\n",
      "    jobid: 0\u001b[0m\n",
      "\u001b[32m\u001b[0m\n",
      "\u001b[32m[Tue Apr 21 09:45:54 2020]\u001b[0m\n",
      "\u001b[32mFinished job 0.\u001b[0m\n",
      "\u001b[32m5 of 5 steps (100%) done\u001b[0m\n",
      "\u001b[33mComplete log: /Users/nquinones/Documents/projects/baymlab/proyects/BstAViking/.snakemake/log/2020-04-21T094507.257503.snakemake.log\u001b[0m\n"
     ]
    }
   ],
   "source": [
    "!cd .. ; snakemake"
   ]
  },
  {
   "cell_type": "code",
   "execution_count": null,
   "metadata": {},
   "outputs": [],
   "source": []
  }
 ],
 "metadata": {
  "kernelspec": {
   "display_name": "Python 3",
   "language": "python",
   "name": "python3"
  },
  "language_info": {
   "codemirror_mode": {
    "name": "ipython",
    "version": 3
   },
   "file_extension": ".py",
   "mimetype": "text/x-python",
   "name": "python",
   "nbconvert_exporter": "python",
   "pygments_lexer": "ipython3",
   "version": "3.6.10"
  }
 },
 "nbformat": 4,
 "nbformat_minor": 4
}
