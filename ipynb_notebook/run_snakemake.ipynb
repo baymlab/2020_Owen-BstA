{
 "cells": [
  {
   "cell_type": "markdown",
   "metadata": {},
   "source": [
    "# Snakemake pipeline documentation"
   ]
  },
  {
   "cell_type": "markdown",
   "metadata": {},
   "source": [
    "## Environment:\n",
    "The environment is defined in [`envs/gviking.yml`](../envs/gviking.yml). It can be created as follows:\n",
    "\n",
    "``` bash\n",
    "conda env create -f envs/gviking.yml\n",
    "\n",
    "conda activate gviking\n",
    "```"
   ]
  },
  {
   "cell_type": "markdown",
   "metadata": {},
   "source": [
    "## Models:"
   ]
  },
  {
   "cell_type": "markdown",
   "metadata": {},
   "source": [
    "Download Pfam 31.0"
   ]
  },
  {
   "cell_type": "code",
   "execution_count": 5,
   "metadata": {},
   "outputs": [
    {
     "name": "stdout",
     "output_type": "stream",
     "text": [
      "--2020-07-11 19:33:08--  ftp://ftp.ebi.ac.uk/pub/databases/Pfam/releases/Pfam31.0/Pfam-A.hmm.gz\n",
      "           => '../data/pipeline/Pfam-A.hmm.gz'\n",
      "Resolving ftp.ebi.ac.uk... 193.62.197.74\n",
      "Connecting to ftp.ebi.ac.uk|193.62.197.74|:21... connected.\n",
      "Logging in as anonymous ... Logged in!\n",
      "==> SYST ... done.    ==> PWD ... done.\n",
      "==> TYPE I ... done.  ==> CWD (1) /pub/databases/Pfam/releases/Pfam31.0 ... done.\n",
      "==> SIZE Pfam-A.hmm.gz ... 257664436\n",
      "==> PASV ... done.    ==> RETR Pfam-A.hmm.gz ... done.\n",
      "Length: 257664436 (246M) (unauthoritative)\n",
      "\n",
      "Pfam-A.hmm.gz       100%[===================>] 245.73M  5.79MB/s    in 58s     \n",
      "\n",
      "2020-07-11 19:34:07 (4.21 MB/s) - '../data/pipeline/Pfam-A.hmm.gz' saved [257664436]\n",
      "\n"
     ]
    }
   ],
   "source": [
    "!wget -P ../data/pipeline/ ftp://ftp.ebi.ac.uk/pub/databases/Pfam/releases/Pfam31.0/Pfam-A.hmm.gz"
   ]
  },
  {
   "cell_type": "code",
   "execution_count": 6,
   "metadata": {},
   "outputs": [],
   "source": [
    "!gunzip ../data/pipeline/Pfam-A.hmm.gz"
   ]
  },
  {
   "cell_type": "markdown",
   "metadata": {},
   "source": [
    "Merge with BstA model"
   ]
  },
  {
   "cell_type": "code",
   "execution_count": 10,
   "metadata": {},
   "outputs": [],
   "source": [
    "!cat ../data/pipeline/Pfam-A.hmm ../data/BstAhomologs/bsta.hmm > ../data/pipeline/Pfam-BstA.hmm"
   ]
  },
  {
   "cell_type": "markdown",
   "metadata": {},
   "source": [
    "Prepare for hmmscan"
   ]
  },
  {
   "cell_type": "code",
   "execution_count": 11,
   "metadata": {},
   "outputs": [
    {
     "name": "stdout",
     "output_type": "stream",
     "text": [
      "Working...    done.\n",
      "Pressed and indexed 16713 HMMs (16713 names and 16712 accessions).\n",
      "Models pressed into binary file:   ../data/pipeline/Pfam-BstA.hmm.h3m\n",
      "SSI index for binary model file:   ../data/pipeline/Pfam-BstA.hmm.h3i\n",
      "Profiles (MSV part) pressed into:  ../data/pipeline/Pfam-BstA.hmm.h3f\n",
      "Profiles (remainder) pressed into: ../data/pipeline/Pfam-BstA.hmm.h3p\n"
     ]
    }
   ],
   "source": [
    "!hmmpress ../data/pipeline/Pfam-BstA.hmm"
   ]
  },
  {
   "cell_type": "markdown",
   "metadata": {},
   "source": [
    "## Config\n",
    "All initial options are specified in the [`config.yaml`](../config.yaml) file. The options are the following:\n",
    "\n",
    "- `input_file`: Must be a three column tsv indicating NCBI accessions and coordinates, as shown in [`../data/pipeline/bsta_homologs.tsv`](../data/pipeline/bsta_homologs.tsv)\n",
    "\n",
    "- `output_dir`: Directory were all the output will be saved.\n",
    "\n",
    "- `params/neighborhood`: Range around the specified coordinates to download and annotate.\n",
    "\n",
    "- `hmm_models`: Path to `.hmm` file to run `hmmscan`."
   ]
  },
  {
   "cell_type": "markdown",
   "metadata": {},
   "source": [
    "## Run pipeline\n",
    "The pipeline can be run locally by activating the environment and running:\n",
    "```\n",
    "snakemake -p --configfile config.yaml -k\n",
    "```"
   ]
  }
 ],
 "metadata": {
  "kernelspec": {
   "display_name": "Python 3",
   "language": "python",
   "name": "python3"
  },
  "language_info": {
   "codemirror_mode": {
    "name": "ipython",
    "version": 3
   },
   "file_extension": ".py",
   "mimetype": "text/x-python",
   "name": "python",
   "nbconvert_exporter": "python",
   "pygments_lexer": "ipython3",
   "version": "3.7.6"
  }
 },
 "nbformat": 4,
 "nbformat_minor": 4
}
